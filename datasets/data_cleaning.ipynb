{
 "cells": [
  {
   "cell_type": "code",
   "execution_count": 1,
   "metadata": {},
   "outputs": [
    {
     "name": "stdout",
     "output_type": "stream",
     "text": [
      "                                play_id  \\\n",
      "0  148e943b-10db-4d71-943d-ead3b36bebbc   \n",
      "1  d4116f91-e362-4261-a7d0-fc02f0eeb67b   \n",
      "2  2d6363ad-8ff2-49cc-bf21-d8cdfdc55999   \n",
      "3  e97b2fb3-a7b9-4a4b-812a-f1204437a06f   \n",
      "4  3423ed8c-5945-46e0-89f4-d6ed2baf5696   \n",
      "\n",
      "                                               title  ExitVelocity  \\\n",
      "0  Freddie Freeman homers (1) on a fly ball to ce...         101.7   \n",
      "1  Mookie Betts homers (2) on a fly ball to left ...         104.6   \n",
      "2  George Springer homers (1) on a fly ball to le...         100.3   \n",
      "3  Paul Goldschmidt homers (1) on a fly ball to l...         101.8   \n",
      "4  Nick Martini homers (2) on a fly ball to right...         100.8   \n",
      "\n",
      "   HitDistance  LaunchAngle                                              video  \n",
      "0   408.819710         33.0  https://sporty-clips.mlb.com/eVozQWVfWGw0TUFRP...  \n",
      "1   406.399234         28.0  https://sporty-clips.mlb.com/eVozQWVfWGw0TUFRP...  \n",
      "2   391.587326         26.0  https://sporty-clips.mlb.com/WmU5ZDhfWGw0TUFRP...  \n",
      "3   401.081700         28.0  https://sporty-clips.mlb.com/eVozQWVfWGw0TUFRP...  \n",
      "4   389.299792         23.0  https://sporty-clips.mlb.com/a1puZ0JfWGw0TUFRP...  \n"
     ]
    }
   ],
   "source": [
    "import pandas as pd\n",
    "\n",
    "# Load the CSV file\n",
    "data = pd.read_csv('2024-mlb-homeruns.csv')\n",
    "\n",
    "# Display the first few rows\n",
    "print(data.head())"
   ]
  },
  {
   "cell_type": "code",
   "execution_count": 2,
   "metadata": {},
   "outputs": [
    {
     "name": "stdout",
     "output_type": "stream",
     "text": [
      "Index(['play_id', 'title', 'ExitVelocity', 'HitDistance', 'LaunchAngle',\n",
      "       'video'],\n",
      "      dtype='object')\n"
     ]
    }
   ],
   "source": [
    "print(data.columns)"
   ]
  },
  {
   "cell_type": "code",
   "execution_count": 3,
   "metadata": {},
   "outputs": [
    {
     "name": "stdout",
     "output_type": "stream",
     "text": [
      "<class 'pandas.core.frame.DataFrame'>\n",
      "RangeIndex: 5450 entries, 0 to 5449\n",
      "Data columns (total 6 columns):\n",
      " #   Column        Non-Null Count  Dtype  \n",
      "---  ------        --------------  -----  \n",
      " 0   play_id       5450 non-null   object \n",
      " 1   title         5450 non-null   object \n",
      " 2   ExitVelocity  5444 non-null   float64\n",
      " 3   HitDistance   5450 non-null   float64\n",
      " 4   LaunchAngle   5444 non-null   float64\n",
      " 5   video         5450 non-null   object \n",
      "dtypes: float64(3), object(3)\n",
      "memory usage: 255.6+ KB\n",
      "None\n"
     ]
    }
   ],
   "source": [
    "print(data.info())"
   ]
  },
  {
   "cell_type": "code",
   "execution_count": 4,
   "metadata": {},
   "outputs": [],
   "source": [
    "data = data.dropna()"
   ]
  },
  {
   "cell_type": "code",
   "execution_count": 5,
   "metadata": {},
   "outputs": [
    {
     "name": "stdout",
     "output_type": "stream",
     "text": [
      "<class 'pandas.core.frame.DataFrame'>\n",
      "Index: 5444 entries, 0 to 5449\n",
      "Data columns (total 6 columns):\n",
      " #   Column        Non-Null Count  Dtype  \n",
      "---  ------        --------------  -----  \n",
      " 0   play_id       5444 non-null   object \n",
      " 1   title         5444 non-null   object \n",
      " 2   ExitVelocity  5444 non-null   float64\n",
      " 3   HitDistance   5444 non-null   float64\n",
      " 4   LaunchAngle   5444 non-null   float64\n",
      " 5   video         5444 non-null   object \n",
      "dtypes: float64(3), object(3)\n",
      "memory usage: 297.7+ KB\n",
      "None\n"
     ]
    }
   ],
   "source": [
    "print(data.info())"
   ]
  },
  {
   "cell_type": "code",
   "execution_count": 6,
   "metadata": {},
   "outputs": [],
   "source": [
    "data = data[data['video'].str.startswith('http')]"
   ]
  },
  {
   "cell_type": "code",
   "execution_count": 7,
   "metadata": {},
   "outputs": [],
   "source": [
    "data.to_csv('mlb_homeruns_2024.csv', index=False)"
   ]
  },
  {
   "cell_type": "markdown",
   "metadata": {},
   "source": [
    "**Add the team column to the dataset**"
   ]
  },
  {
   "cell_type": "code",
   "execution_count": 2,
   "metadata": {},
   "outputs": [
    {
     "name": "stdout",
     "output_type": "stream",
     "text": [
      "Unique Player Names:\n",
      "['Riley Greene', 'Lane Thomas', 'Jazz Chisholm', 'Kyle Manzardo', 'Ozzie Albies', 'Angel Mart', 'Edward Olivares', 'Luis Rengifo', 'Jon Berti', 'Justin Turner', 'Gunnar Henderson', 'Enrique Hern', 'Reese Mc', 'Joey Meneses', 'Adam Frazier', 'Jonathan Aranda', 'Anthony Volpe', 'Gabriel Moreno', 'Jo Adell', 'Nick Fortes', 'Kerry Carpenter', 'Luis Campusano', 'Jarren Duran', 'Dane Myers', 'Jorge Polanco', 'Donovan Solano', 'Cedric Mullins', 'Marcell Ozuna', 'Fernando Tatis', 'Casey Schmitt', 'Esteury Ruiz', 'David Fry', 'Yasmani Grandal', 'Adolis Garc', 'Nelson Vel', 'Jordan Westburg', 'Jonathan India', 'Nick Yorke', 'Daniel Schneemann', 'Brent Rooker', 'Jurickson Profar', 'Brendan Donovan', 'Akil Baddoo', 'David Villar', 'Nick Ahmed', 'Bobby Dalbec', 'Tyler Stephenson', 'Mickey Moniak', 'Michael Harris', 'Addison Barger', 'Matt Chapman', 'Joey Ortiz', 'Alec Burleson', 'Anthony Santander', 'Eric Haase', 'Dominic Canzone', 'Gleyber Torres', 'Jerar Encarnacion', 'Luis Garc', 'Willy Adames', 'Cavan Biggio', 'Ronald Acu', 'Kyle Mc', 'Dustin Harris', 'Amed Rosario', 'Andrew Benintendi', 'Tommy Edman', 'Ryan Kreidler', 'Garrett Stubbs', 'Alex Jackson', 'Chas Mc', 'Thairo Estrada', 'Tom Murphy', 'Corbin Carroll', 'Jake Cronenworth', 'Ryan Vilade', 'Jose Siri', 'Connor Norby', 'Isaac Paredes', 'Otto Lopez', 'Jared Walsh', 'Curtis Mead', 'Tyler Nevin', 'Miguel Rojas', 'Will Brennan', 'Wyatt Langford', 'Davis Wendzel', 'Drew Millas', 'Kyle Tucker', 'Griffin Conine', 'Danny Mendick', 'Mitch Garver', 'Bo Naylor', 'Taylor Ward', 'Eric Wagaman', 'Bryan De', 'Trey Sweeney', 'Alex Bregman', 'Gabriel Arias', 'Sean Murphy', 'Charles Leblanc', 'Randal Grichuk', 'Mike Trout', 'Mike Yastrzemski', 'Spencer Horwitz', 'Nico Hoerner', 'Jose Herrera', 'Josh Bell', 'Pavin Smith', 'Shohei Ohtani', 'Nick Gordon', 'Harold Ram', 'Carlos Correa', 'Bryan Ramos', 'Christian Bethancourt', 'Freddie Freeman', 'Brice Turang', 'Jose Miranda', 'Victor Robles', 'Edmundo Sosa', 'Ryan Mc', 'Brett Wisely', 'Connor Joe', 'Estevan Florial', 'Brandon Nimmo', 'Anthony Rizzo', 'Emmanuel Rivera', 'Jake Fraley', 'Teoscar Hern', 'Noelvi Marte', 'Patrick Wisdom', 'Adrian Del', 'Jesse Winker', 'Lourdes Gurriel', 'Sal Frelick', 'Ceddanne Rafaela', 'Freddy Fermin', 'Ernie Clement', 'Blaze Alexander', 'Alexander Canario', 'Matt Thaiss', 'Brandon Drury', 'Nick Martini', 'Adley Rutschman', 'Jake Rogers', 'Jake Mc', 'Kevin Pillar', 'Mauricio Dub', 'Hunter Goodman', 'Dansby Swanson', 'Luis Torrens', 'David Hensley', 'Trent Grisham', 'Carlos Santana', 'Francisco Alvarez', 'Ty France', 'Josh Lowe', 'Jake Bauers', 'George Springer', 'Grant Mc', 'Triston Casas', 'Josh Rojas', 'David Dahl', 'Trey Cabbage', 'Darell Hernaiz', 'Greg Jones', 'Nicky Lopez', 'Junior Caminero', 'Zach Neto', 'Luis Arraez', 'Luis Robert', 'Gio Urshela', 'Willson Contreras', 'Parker Meadows', 'Jeimer Candelario', 'Tyler Soderstrom', 'Rafael Devers', 'Shea Langeliers', 'Maikel Garcia', 'Dylan Moore', 'Michael Conforto', 'Dylan Crews', 'Korey Lee', 'Santiago Espinal', 'Michael Siani', 'Nick Loftin', 'Cal Raleigh', 'Garrett Mitchell', 'Donovan Walton', 'Sam Hilliard', 'Daniel Vogelbach', 'Jonah Bride', 'Marcus Semien', 'Ketel Marte', 'Nolan Gorman', 'Zack Gelof', 'Jeremy Pe', 'Andy Pages', 'Yordan Alvarez', 'Matt Carpenter', 'Ryan Mountcastle', 'Nick Castellanos', 'Danny Jansen', 'Brenton Doyle', 'Ezequiel Duran', 'Jack Suwinski', 'Edouard Julien', 'Steven Kwan', 'Nolan Schanuel', 'Abraham Toro', 'Whit Merrifield', 'Orlando Arcia', 'Cristian Pache', 'Zach De', 'Juan Soto', 'Byron Buxton', 'Jorge Soler', 'Pete Alonso', 'Ezequiel Tovar', 'Jose Altuve', 'Dairon Blanco', 'Luis Matos', 'Lars Nootbaar', 'Leody Taveras', 'Gustavo Campero', 'Mark Canha', 'Austin Slater', 'Rhys Hoskins', 'Bryce Harper', 'Rob Refsnyder', 'Rowdy Tellez', 'Brayan Rocchio', 'Nathaniel Lowe', 'Heston Kjerstad', 'Heliot Ramos', 'Vinnie Pasquantino', 'Braden Shewmake', 'Ryan Jeffers', 'Jahmai Jones', 'Yainer Diaz', 'Julio Rodr', 'Jared Triolo', 'Connor Wong', 'Austin Barnes', 'Jonah Heim', 'Travis Jankowski', 'Eloy Jim', 'Victor Caratini', 'David Peralta', 'Weston Wilson', 'Jorge Mateo', 'James Mc', 'Mark Vientos', 'Jordan Walker', 'Brandon Crawford', 'Christopher Morel', 'Salvador Perez', 'Henry Davis', 'Andruw Monasterio', 'Zach Dezenzo', 'Willi Castro', 'Vladimir Guerrero', 'Jakson Reetz', 'Isiah Kiner', 'Christian Walker', 'Nick Senzel', 'Kyle Schwarber', 'Ian Happ', 'Luis Ur', 'Niko Kavadas', 'Graham Pauley', 'Michael Busch', 'Joey Loperfido', 'Trevor Larnach', 'Miguel Amaya', 'Kyle Farmer', 'Spencer Steer', 'Logan Driscoll', 'Keibert Ruiz', 'Starling Marte', 'Joey Gallo', 'Max Kepler', 'Oneil Cruz', 'Bryson Stott', 'Matt Vierling', 'Tyler Locklear', 'Max Muncy', 'Gavin Sheets', 'Jonny De', 'Joey Bart', 'Michael Toglia', 'Tommy Pham', 'Kyle Isbel', 'Robbie Grossman', 'Chris Taylor', 'Rece Hinds', 'Zach Mc', 'Johan Rojas', 'Tyrone Taylor', 'Eugenio Su', 'Jackson Chourio', 'Kevin Newman', 'Austin Martin', 'Ben Rortvedt', 'Xander Bogaerts', 'Mike Ford', 'Brandon Marsh', 'Harrison Bader', 'Dylan Carlson', 'Enmanuel Valdez', 'Will Wagner', 'Michael Massey', 'Masataka Yoshida', 'Colton Cowser', 'Kyle Stowers', 'Jonatan Clase', 'Bo Bichette', 'Kyle Higashioka', 'Kyren Paris', 'Dominic Smith', 'Spencer Torkelson', 'Taylor Walls', 'Alex Call', 'Ryan Noda', 'Patrick Bailey', 'Giancarlo Stanton', 'Rafael March', 'James Outman', 'Manny Machado', 'Leo Jim', 'Billy Cook', 'Ehire Adrianza', 'Eddie Rosario', 'Brendan Rodgers', 'Francisco Lindor', 'Kris Bryant', 'Joc Pederson', 'Ben Rice', 'Matt Olson', 'Brooks Lee', 'Masyn Winn', 'Austin Riley', 'Oliver Dunn', 'Jordyn Adams', 'Buddy Kennedy', 'Richie Palacios', 'Brandon Lowe', 'Jarred Kelenic', 'Austin Hays', 'Aaron Judge', 'William Contreras', 'Austin Wells', 'Max Schuemann', 'Joshua Palacios', 'Ryan Bliss', 'Vidal Bruj', 'Seby Zavala', 'Bryan Reynolds', 'Nolan Jones', 'Stone Garrett', 'Alec Bohm', 'Wilyer Abreu', 'Brett Baty', 'Dillon Dingler', 'Gavin Lux', 'Seiya Suzuki', 'Lenyn Sosa', 'Andrew Mc', 'Tyler Freeman', 'Trea Turner', 'Garrett Cooper', 'Miguel Vargas', 'Andrew Vaughn', 'Eguy Rosario', 'James Wood', 'Yan Gomes', 'Blake Perkins', 'Alex Verdugo', 'Nolan Arenado', 'Elehuris Montero', 'Wilmer Flores', 'Oswaldo Cabrera', 'Aaron Schunk', 'Daulton Varsho', 'Luke Maile', 'Mike Tauchman', 'Hunter Renfroe', 'Pedro Pag', 'Royce Lewis', 'Geraldo Perdomo', 'Corey Julks', 'Mitch Haniger', 'Elly De', 'Davis Schneider', 'Josh Naylor', 'Riley Adams', 'Colt Keith', 'Jackson Merrill', 'Kody Clemens', 'Alejandro Kirk', 'Jasson Dom', 'Adam Duvall', 'Brandon Lockridge', 'Luisangel Acu', 'Charlie Blackmon', 'Lawrence Butler', 'Jake Cave', 'Josh Smith', 'Ildemaro Vargas', 'Jake Burger', 'Josh Jung', 'Derek Hill', 'Jordan Beck', 'Miguel Andujar', 'Evan Carter', 'Bobby Witt', 'Jamie Westbrook', 'Nick Gonzales', 'Luke Raley', 'Luken Baker', 'Juan Yepez', 'Jeff Mc', 'Jon Singleton', 'Will Benson', 'Willie Calhoun', 'Jacob Stallings', 'Curt Casali', 'Jose Iglesias', 'Corey Seager', 'Alex Kirilloff', 'Jackson Holliday', 'Manuel Margot', 'Alek Thomas', 'Tyler Fitzgerald', 'Andy Ib', 'Paul De', 'Jacob Young', 'Pete Crow', 'Jake Meyers', 'David Hamilton', 'Daz Cameron', 'Aaron Hicks', 'Austin Hedges', 'Sean Bouchard', 'Miguel San', 'Xavier Edwards', 'Christian Encarnacion', 'Brooks Baldwin', 'Randy Arozarena', 'Mookie Betts', 'Matt Wallner', 'Jose Trevino', 'Paul Goldschmidt', 'Brett Harris', 'Jhonkensy Noel', 'Stuart Fairchild', 'Christian Yelich', 'Victor Scott', 'Will Smith', 'Kevin Kiermaier', 'Carson Kelly', 'Jason Heyward', 'Cody Bellinger', 'Romy Gonzalez', 'Seth Brown']\n",
      "Unique player names extracted and saved to 'unique_player_names.txt'.\n"
     ]
    }
   ],
   "source": [
    "import pandas as pd\n",
    "import re\n",
    "\n",
    "# Load the dataset\n",
    "data = pd.read_csv('mlb_homeruns_2024.csv')\n",
    "\n",
    "# Function to extract the first player's name from the title\n",
    "def extract_player_name(title):\n",
    "    # Use regex to find the first name (starts with capital letters)\n",
    "    match = re.search(r'^[A-Z][a-z]+ [A-Z][a-z]+', title)\n",
    "    if match:\n",
    "        return match.group(0)  # Return the matched name\n",
    "    return None  # If no name is found\n",
    "\n",
    "# Set to store unique player names\n",
    "unique_player_names = set()\n",
    "\n",
    "# Iterate through the dataset and extract player names\n",
    "for title in data['title']:\n",
    "    player_name = extract_player_name(title)\n",
    "    if player_name:\n",
    "        unique_player_names.add(player_name)  # Add to the set (automatically handles duplicates)\n",
    "\n",
    "# Convert the set to a list\n",
    "unique_player_names_list = list(unique_player_names)\n",
    "\n",
    "# Print the list of unique player names\n",
    "print(\"Unique Player Names:\")\n",
    "print(unique_player_names_list)\n",
    "\n",
    "# Save the list to a file (optional)\n",
    "with open('unique_player_names.txt', 'w') as file:\n",
    "    for name in unique_player_names_list:\n",
    "        file.write(name + '\\n')\n",
    "\n",
    "print(\"Unique player names extracted and saved to 'unique_player_names.txt'.\")"
   ]
  },
  {
   "cell_type": "code",
   "execution_count": 5,
   "metadata": {},
   "outputs": [],
   "source": [
    "import pandas as pd\n",
    "from player_team_mapping import player_team_dict  # Import the dictionary\n",
    "\n",
    "# Function to extract the first player's name from the title\n",
    "def extract_player_name(title):\n",
    "    # Use regex to find the first name (starts with capital letters)\n",
    "    match = re.search(r'^[A-Z][a-z]+ [A-Z][a-z]+', title)\n",
    "    if match:\n",
    "        return match.group(0)  # Return the matched name\n",
    "    return None  # If no name is found\n",
    "\n",
    "# Load the dataset\n",
    "data = pd.read_csv('mlb_homeruns_2024.csv')\n",
    "\n",
    "# Add the 'team' column using the dictionary\n",
    "data['team'] = data['title'].apply(lambda title: player_team_dict.get(extract_player_name(title), \"Unknown\"))\n",
    "\n",
    "# Save the updated dataset\n",
    "data.to_csv('mlb_homeruns_teams_added_2024.csv', index=False)"
   ]
  }
 ],
 "metadata": {
  "kernelspec": {
   "display_name": "Python 3",
   "language": "python",
   "name": "python3"
  },
  "language_info": {
   "codemirror_mode": {
    "name": "ipython",
    "version": 3
   },
   "file_extension": ".py",
   "mimetype": "text/x-python",
   "name": "python",
   "nbconvert_exporter": "python",
   "pygments_lexer": "ipython3",
   "version": "3.12.0"
  }
 },
 "nbformat": 4,
 "nbformat_minor": 2
}
